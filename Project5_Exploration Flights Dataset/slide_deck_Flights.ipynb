{
 "cells": [
  {
   "cell_type": "markdown",
   "metadata": {
    "slideshow": {
     "slide_type": "slide"
    }
   },
   "source": [
    "# Flights Dataset\n",
    "## by (Nawaf Alyousef)"
   ]
  },
  {
   "cell_type": "markdown",
   "metadata": {
    "slideshow": {
     "slide_type": "slide"
    }
   },
   "source": [
    "## Investigation Overview:\n",
    "\n",
    "> I want to discover UniqueCarrier and his relationship with Distance ,FlightNum, Month.\n",
    "\n",
    "## Dataset Overview:\n",
    "\n",
    "> These dataset are information about all aspects of the flight, such as departure time, arrival time, departure airport, and arrival airport."
   ]
  },
  {
   "cell_type": "code",
   "execution_count": 1,
   "metadata": {
    "slideshow": {
     "slide_type": "skip"
    }
   },
   "outputs": [],
   "source": [
    "# import all packages and set plots to be embedded inline\n",
    "import numpy as np\n",
    "import pandas as pd\n",
    "import matplotlib.pyplot as plt\n",
    "import seaborn as sb\n",
    "\n",
    "%matplotlib inline\n",
    "\n",
    "# suppress warnings from final output\n",
    "import warnings\n",
    "warnings.simplefilter(\"ignore\")"
   ]
  },
  {
   "cell_type": "code",
   "execution_count": 2,
   "metadata": {
    "slideshow": {
     "slide_type": "skip"
    }
   },
   "outputs": [
    {
     "data": {
      "text/html": [
       "<div>\n",
       "<style scoped>\n",
       "    .dataframe tbody tr th:only-of-type {\n",
       "        vertical-align: middle;\n",
       "    }\n",
       "\n",
       "    .dataframe tbody tr th {\n",
       "        vertical-align: top;\n",
       "    }\n",
       "\n",
       "    .dataframe thead th {\n",
       "        text-align: right;\n",
       "    }\n",
       "</style>\n",
       "<table border=\"1\" class=\"dataframe\">\n",
       "  <thead>\n",
       "    <tr style=\"text-align: right;\">\n",
       "      <th></th>\n",
       "      <th>Year</th>\n",
       "      <th>Month</th>\n",
       "      <th>DayofMonth</th>\n",
       "      <th>DayOfWeek</th>\n",
       "      <th>DepTime</th>\n",
       "      <th>CRSDepTime</th>\n",
       "      <th>ArrTime</th>\n",
       "      <th>CRSArrTime</th>\n",
       "      <th>UniqueCarrier</th>\n",
       "      <th>FlightNum</th>\n",
       "      <th>...</th>\n",
       "      <th>AirTime</th>\n",
       "      <th>ArrDelay</th>\n",
       "      <th>DepDelay</th>\n",
       "      <th>Origin</th>\n",
       "      <th>Airport_Dest</th>\n",
       "      <th>Distance</th>\n",
       "      <th>TaxiIn</th>\n",
       "      <th>TaxiOut</th>\n",
       "      <th>Cancelled</th>\n",
       "      <th>Diverted</th>\n",
       "    </tr>\n",
       "  </thead>\n",
       "  <tbody>\n",
       "    <tr>\n",
       "      <th>0</th>\n",
       "      <td>2000</td>\n",
       "      <td>1</td>\n",
       "      <td>28</td>\n",
       "      <td>5</td>\n",
       "      <td>1647.0</td>\n",
       "      <td>1647</td>\n",
       "      <td>1906.0</td>\n",
       "      <td>1859.0</td>\n",
       "      <td>HP</td>\n",
       "      <td>154</td>\n",
       "      <td>...</td>\n",
       "      <td>233.0</td>\n",
       "      <td>7.0</td>\n",
       "      <td>0.0</td>\n",
       "      <td>ATL</td>\n",
       "      <td>PHX</td>\n",
       "      <td>1587</td>\n",
       "      <td>15</td>\n",
       "      <td>11</td>\n",
       "      <td>False</td>\n",
       "      <td>False</td>\n",
       "    </tr>\n",
       "    <tr>\n",
       "      <th>1</th>\n",
       "      <td>2000</td>\n",
       "      <td>1</td>\n",
       "      <td>29</td>\n",
       "      <td>6</td>\n",
       "      <td>1648.0</td>\n",
       "      <td>1647</td>\n",
       "      <td>1939.0</td>\n",
       "      <td>1859.0</td>\n",
       "      <td>HP</td>\n",
       "      <td>154</td>\n",
       "      <td>...</td>\n",
       "      <td>239.0</td>\n",
       "      <td>40.0</td>\n",
       "      <td>1.0</td>\n",
       "      <td>ATL</td>\n",
       "      <td>PHX</td>\n",
       "      <td>1587</td>\n",
       "      <td>5</td>\n",
       "      <td>47</td>\n",
       "      <td>False</td>\n",
       "      <td>False</td>\n",
       "    </tr>\n",
       "    <tr>\n",
       "      <th>2</th>\n",
       "      <td>2000</td>\n",
       "      <td>1</td>\n",
       "      <td>30</td>\n",
       "      <td>7</td>\n",
       "      <td>NaN</td>\n",
       "      <td>1647</td>\n",
       "      <td>NaN</td>\n",
       "      <td>1859.0</td>\n",
       "      <td>HP</td>\n",
       "      <td>154</td>\n",
       "      <td>...</td>\n",
       "      <td>NaN</td>\n",
       "      <td>NaN</td>\n",
       "      <td>NaN</td>\n",
       "      <td>ATL</td>\n",
       "      <td>PHX</td>\n",
       "      <td>1587</td>\n",
       "      <td>0</td>\n",
       "      <td>0</td>\n",
       "      <td>True</td>\n",
       "      <td>False</td>\n",
       "    </tr>\n",
       "    <tr>\n",
       "      <th>3</th>\n",
       "      <td>2000</td>\n",
       "      <td>1</td>\n",
       "      <td>31</td>\n",
       "      <td>1</td>\n",
       "      <td>1645.0</td>\n",
       "      <td>1647</td>\n",
       "      <td>1852.0</td>\n",
       "      <td>1859.0</td>\n",
       "      <td>HP</td>\n",
       "      <td>154</td>\n",
       "      <td>...</td>\n",
       "      <td>226.0</td>\n",
       "      <td>-7.0</td>\n",
       "      <td>-2.0</td>\n",
       "      <td>ATL</td>\n",
       "      <td>PHX</td>\n",
       "      <td>1587</td>\n",
       "      <td>7</td>\n",
       "      <td>14</td>\n",
       "      <td>False</td>\n",
       "      <td>False</td>\n",
       "    </tr>\n",
       "    <tr>\n",
       "      <th>4</th>\n",
       "      <td>2000</td>\n",
       "      <td>1</td>\n",
       "      <td>1</td>\n",
       "      <td>6</td>\n",
       "      <td>842.0</td>\n",
       "      <td>846</td>\n",
       "      <td>1057.0</td>\n",
       "      <td>1101.0</td>\n",
       "      <td>HP</td>\n",
       "      <td>609</td>\n",
       "      <td>...</td>\n",
       "      <td>244.0</td>\n",
       "      <td>-4.0</td>\n",
       "      <td>-4.0</td>\n",
       "      <td>ATL</td>\n",
       "      <td>PHX</td>\n",
       "      <td>1587</td>\n",
       "      <td>3</td>\n",
       "      <td>8</td>\n",
       "      <td>False</td>\n",
       "      <td>False</td>\n",
       "    </tr>\n",
       "  </tbody>\n",
       "</table>\n",
       "<p>5 rows × 23 columns</p>\n",
       "</div>"
      ],
      "text/plain": [
       "   Year  Month  DayofMonth  DayOfWeek  DepTime  CRSDepTime  ArrTime  \\\n",
       "0  2000      1          28          5   1647.0        1647   1906.0   \n",
       "1  2000      1          29          6   1648.0        1647   1939.0   \n",
       "2  2000      1          30          7      NaN        1647      NaN   \n",
       "3  2000      1          31          1   1645.0        1647   1852.0   \n",
       "4  2000      1           1          6    842.0         846   1057.0   \n",
       "\n",
       "   CRSArrTime UniqueCarrier  FlightNum  ... AirTime  ArrDelay  DepDelay  \\\n",
       "0      1859.0            HP        154  ...   233.0       7.0       0.0   \n",
       "1      1859.0            HP        154  ...   239.0      40.0       1.0   \n",
       "2      1859.0            HP        154  ...     NaN       NaN       NaN   \n",
       "3      1859.0            HP        154  ...   226.0      -7.0      -2.0   \n",
       "4      1101.0            HP        609  ...   244.0      -4.0      -4.0   \n",
       "\n",
       "   Origin  Airport_Dest  Distance TaxiIn TaxiOut  Cancelled  Diverted  \n",
       "0     ATL           PHX      1587     15      11      False     False  \n",
       "1     ATL           PHX      1587      5      47      False     False  \n",
       "2     ATL           PHX      1587      0       0       True     False  \n",
       "3     ATL           PHX      1587      7      14      False     False  \n",
       "4     ATL           PHX      1587      3       8      False     False  \n",
       "\n",
       "[5 rows x 23 columns]"
      ]
     },
     "execution_count": 2,
     "metadata": {},
     "output_type": "execute_result"
    }
   ],
   "source": [
    "# load in the dataset into a pandas dataframe\n",
    "df_flight_clean=pd.read_csv('cleaned_2000.csv')\n",
    "df_flight_clean.head()"
   ]
  },
  {
   "cell_type": "markdown",
   "metadata": {
    "slideshow": {
     "slide_type": "slide"
    }
   },
   "source": [
    "## Visualization 1\n",
    "\n",
    "### What are the most common type of Unique Carrier?\n",
    "> We notice from the drawing the most common type of carrier is a  WN , DL."
   ]
  },
  {
   "cell_type": "code",
   "execution_count": 3,
   "metadata": {
    "slideshow": {
     "slide_type": "subslide"
    }
   },
   "outputs": [
    {
     "data": {
      "image/png": "[encoded data removed]",
      "text/plain": [
       "<Figure size 648x504 with 1 Axes>"
      ]
     },
     "metadata": {
      "needs_background": "light"
     },
     "output_type": "display_data"
    }
   ],
   "source": [
    "#The Unique Carrier.\n",
    "plt.figure(figsize = [9, 7])\n",
    "base_color = sb.color_palette()[0]\n",
    "sb.countplot( x='UniqueCarrier',color=base_color, data=df_flight_clean), plt.grid(axis='y', alpha=0.17);\n",
    "plt.ylabel('count',fontsize=14); plt.xlabel('Carrier' ,fontsize=14),plt.title(\"The Unique Carrier\", fontsize=23);"
   ]
  },
  {
   "cell_type": "markdown",
   "metadata": {
    "collapsed": true,
    "slideshow": {
     "slide_type": "slide"
    }
   },
   "source": [
    "## Visualization 2\n",
    "\n",
    "### What is a Unique Carrier that have a Max Distance and What is a Unique Carrier that have a Min Distance?\n",
    ">We note from the drawing that we want to find out which UniqueCarrier have a Max Distance and a Min Distance and the result is the UniqueCarrier have a Max Distance is CO and  UniqueCarrier have a Min Distance is AA."
   ]
  },
  {
   "cell_type": "code",
   "execution_count": 4,
   "metadata": {
    "slideshow": {
     "slide_type": "subslide"
    }
   },
   "outputs": [
    {
     "data": {
      "text/plain": [
       "Text(0.5, 1.0, 'Min Distance Vs UniqueCarrier')"
      ]
     },
     "execution_count": 4,
     "metadata": {},
     "output_type": "execute_result"
    },
    {
     "data": {
      "image/png": "[encoded data removed]",
      "text/plain": [
       "<Figure size 720x360 with 2 Axes>"
      ]
     },
     "metadata": {
      "needs_background": "light"
     },
     "output_type": "display_data"
    }
   ],
   "source": [
    "#Max Distance Vs UniqueCarrier && #Min Distance Vs UniqueCarrier\n",
    "plt.figure(figsize = [10,5]);base_color = sb.color_palette()[0]\n",
    "#Max Distance Vs UniqueCarrier\n",
    "plt.subplot(1, 2, 1);Max_Dist_Carr=df_flight_clean.groupby(['UniqueCarrier'], as_index=False)['Distance'].max();sb.barplot(color = base_color,data= Max_Dist_Carr ,y ='Distance', x='UniqueCarrier'), plt.grid(axis='y', alpha=0.17);plt.ylabel('Distance(miles)',fontsize=14); plt.xlabel('UniqueCarrier' ,fontsize=14 ); plt.title('Max Distance Vs UniqueCarrier', fontsize=17)\n",
    "#Min Distance Vs UniqueCarrier\n",
    "plt.subplot(1, 2, 2);Min_Dist_Carr=df_flight_clean.groupby(['UniqueCarrier'], as_index=False)['Distance'].min();sb.barplot(color = base_color, data= Min_Dist_Carr ,y ='Distance', x='UniqueCarrier'), plt.grid(axis='y', alpha=0.17);plt.ylabel('Distance(miles)',fontsize=10); plt.xlabel('UniqueCarrier' ,fontsize=10 ); plt.title('Min Distance Vs UniqueCarrier', fontsize=17)"
   ]
  },
  {
   "cell_type": "markdown",
   "metadata": {
    "slideshow": {
     "slide_type": "slide"
    }
   },
   "source": [
    "## Visualization 3\n",
    "\n",
    "### What is the relationship between UniqueCarrier, Month, DayOfWeek, FlightNum ?\n",
    ">We notice through the drawing that shows the relationship of UniqueCarrier's , Month  , Days,FlightNum  ,we note the number of flights in DL UniqueCarrier are greater than US UniqueCarrier  , and we note in both US ,DL UniqueCarrier's the tall duration of max number of flights is in mothe five from day one to day five also  in mothe 12 from day five  to day seven."
   ]
  },
  {
   "cell_type": "code",
   "execution_count": 5,
   "metadata": {
    "slideshow": {
     "slide_type": "subslide"
    }
   },
   "outputs": [
    {
     "data": {
      "image/png": "[encoded data removed]",
      "text/plain": [
       "<Figure size 720x504 with 4 Axes>"
      ]
     },
     "metadata": {
      "needs_background": "light"
     },
     "output_type": "display_data"
    }
   ],
   "source": [
    "#UniqueCarrier Vs Month Vs DayOfWeek Vs FlightNum\n",
    "plt.figure(figsize = [10,7]) \n",
    "plt.subplot(2, 1, 1)\n",
    "US=df_flight_clean.loc[df_flight_clean['UniqueCarrier'].isin(['US'])];US_M_D_NFlight =US.groupby([ 'Month','DayOfWeek']).size().reset_index(name='FlightNum');US_M_D_NFlight_p= US_M_D_NFlight.pivot('Month', 'DayOfWeek', 'FlightNum');sb.heatmap(US_M_D_NFlight_p );plt.ylabel('Month',fontsize=11); plt.xlabel('Days' ,fontsize=9),plt.title('US UniqueCarrier ',loc='right', fontsize=13);\n",
    "plt.subplot(2, 1, 2)\n",
    "DL=df_flight_clean.loc[df_flight_clean['UniqueCarrier'].isin(['DL'])];DL_M_D_NFlight =DL.groupby([ 'Month','DayOfWeek']).size().reset_index(name='FlightNum');DL_M_D_NFlight_p= DL_M_D_NFlight.pivot('Month', 'DayOfWeek', 'FlightNum');sb.heatmap(DL_M_D_NFlight_p ,cmap = 'cool');plt.ylabel('Month',fontsize=11); plt.xlabel('Days' ,fontsize=9),plt.title('DL UniqueCarrier ',loc='right', fontsize=13);plt.suptitle(' UniqueCarrier Vs Month Vs DayOfWeek Vs FlightNum', fontsize = 20);"
   ]
  },
  {
   "cell_type": "code",
   "execution_count": 7,
   "metadata": {
    "slideshow": {
     "slide_type": "skip"
    }
   },
   "outputs": [
    {
     "name": "stdout",
     "output_type": "stream",
     "text": [
      "[NbConvertApp] WARNING | Config option `kernel_spec_manager_class` not recognized by `NbConvertApp`.\r\n",
      "Traceback (most recent call last):\r\n",
      "  File \"/opt/anaconda3/lib/python3.8/site-packages/traitlets/traitlets.py\", line 535, in get\r\n",
      "    value = obj._trait_values[self.name]\r\n",
      "KeyError: 'template_paths'\r\n",
      "\r\n",
      "During handling of the above exception, another exception occurred:\r\n",
      "\r\n",
      "Traceback (most recent call last):\r\n",
      "  File \"/opt/anaconda3/bin/jupyter-nbconvert\", line 11, in <module>\r\n",
      "    sys.exit(main())\r\n",
      "  File \"/opt/anaconda3/lib/python3.8/site-packages/jupyter_core/application.py\", line 270, in launch_instance\r\n",
      "    return super(JupyterApp, cls).launch_instance(argv=argv, **kwargs)\r\n",
      "  File \"/opt/anaconda3/lib/python3.8/site-packages/traitlets/config/application.py\", line 845, in launch_instance\r\n",
      "    app.start()\r\n",
      "  File \"/opt/anaconda3/lib/python3.8/site-packages/nbconvert/nbconvertapp.py\", line 350, in start\r\n",
      "    self.convert_notebooks()\r\n",
      "  File \"/opt/anaconda3/lib/python3.8/site-packages/nbconvert/nbconvertapp.py\", line 519, in convert_notebooks\r\n",
      "    self.exporter = cls(config=self.config)\r\n",
      "  File \"/opt/anaconda3/lib/python3.8/site-packages/nbconvert/exporters/templateexporter.py\", line 325, in __init__\r\n",
      "    super().__init__(config=config, **kw)\r\n",
      "  File \"/opt/anaconda3/lib/python3.8/site-packages/nbconvert/exporters/exporter.py\", line 114, in __init__\r\n",
      "    self._init_preprocessors()\r\n",
      "  File \"/opt/anaconda3/lib/python3.8/site-packages/nbconvert/exporters/templateexporter.py\", line 491, in _init_preprocessors\r\n",
      "    conf = self._get_conf()\r\n",
      "  File \"/opt/anaconda3/lib/python3.8/site-packages/nbconvert/exporters/templateexporter.py\", line 507, in _get_conf\r\n",
      "    for path in map(Path, self.template_paths):\r\n",
      "  File \"/opt/anaconda3/lib/python3.8/site-packages/traitlets/traitlets.py\", line 575, in __get__\r\n",
      "    return self.get(obj, cls)\r\n",
      "  File \"/opt/anaconda3/lib/python3.8/site-packages/traitlets/traitlets.py\", line 538, in get\r\n",
      "    default = obj.trait_defaults(self.name)\r\n",
      "  File \"/opt/anaconda3/lib/python3.8/site-packages/traitlets/traitlets.py\", line 1578, in trait_defaults\r\n",
      "    return self._get_trait_default_generator(names[0])(self)\r\n",
      "  File \"/opt/anaconda3/lib/python3.8/site-packages/traitlets/traitlets.py\", line 975, in __call__\r\n",
      "    return self.func(*args, **kwargs)\r\n",
      "  File \"/opt/anaconda3/lib/python3.8/site-packages/nbconvert/exporters/templateexporter.py\", line 518, in _template_paths\r\n",
      "    template_names = self.get_template_names()\r\n",
      "  File \"/opt/anaconda3/lib/python3.8/site-packages/nbconvert/exporters/templateexporter.py\", line 601, in get_template_names\r\n",
      "    raise ValueError('No template sub-directory with name %r found in the following paths:\\n\\t%s' % (base_template, paths))\r\n",
      "ValueError: No template sub-directory with name 'output_toggle' found in the following paths:\r\n",
      "\t/Users/nawaf/Library/Jupyter\r\n",
      "\t/opt/anaconda3/share/jupyter\r\n",
      "\t/usr/local/share/jupyter\r\n",
      "\t/usr/share/jupyter\r\n"
     ]
    }
   ],
   "source": [
    "!jupyter nbconvert slide_deck_Flights.ipynb --to slides --post serve --template output_toggle"
   ]
  },
  {
   "cell_type": "code",
   "execution_count": null,
   "metadata": {},
   "outputs": [],
   "source": []
  }
 ],
 "metadata": {
  "celltoolbar": "Slideshow",
  "kernelspec": {
   "display_name": "Python 3",
   "language": "python",
   "name": "python3"
  },
  "language_info": {
   "codemirror_mode": {
    "name": "ipython",
    "version": 3
   },
   "file_extension": ".py",
   "mimetype": "text/x-python",
   "name": "python",
   "nbconvert_exporter": "python",
   "pygments_lexer": "ipython3",
   "version": "3.8.5"
  }
 },
 "nbformat": 4,
 "nbformat_minor": 2
}
